{
 "cells": [
  {
   "cell_type": "markdown",
   "id": "02877a8f",
   "metadata": {
    "papermill": {
     "duration": 0.012511,
     "end_time": "2022-08-07T22:35:16.832037",
     "exception": false,
     "start_time": "2022-08-07T22:35:16.819526",
     "status": "completed"
    },
    "tags": []
   },
   "source": [
    "# Introduction #\n",
    "\n",
    "this project is for the [House Prices - Advanced Regression Techniques](https://www.kaggle.com/c/house-prices-advanced-regression-techniques) competition! \n",
    "\n",
    "\n",
    "\n",
    "# Step 1 - Imports #\n",
    "\n",
    "\n",
    "We'll start by importing the packages we used in the project and setting some notebook defaults."
   ]
  },
  {
   "cell_type": "code",
   "execution_count": 1,
   "id": "c02b5e7a",
   "metadata": {
    "_kg_hide-input": true,
    "execution": {
     "iopub.execute_input": "2022-08-07T22:35:16.857527Z",
     "iopub.status.busy": "2022-08-07T22:35:16.856976Z",
     "iopub.status.idle": "2022-08-07T22:35:18.934781Z",
     "shell.execute_reply": "2022-08-07T22:35:18.933217Z"
    },
    "papermill": {
     "duration": 2.094242,
     "end_time": "2022-08-07T22:35:18.938025",
     "exception": false,
     "start_time": "2022-08-07T22:35:16.843783",
     "status": "completed"
    },
    "tags": []
   },
   "outputs": [],
   "source": [
    "\n",
    "import os\n",
    "import warnings\n",
    "from pathlib import Path\n",
    "\n",
    "import matplotlib.pyplot as plt\n",
    "import numpy as np\n",
    "import pandas as pd\n",
    "import seaborn as sns\n",
    "from pandas.api.types import CategoricalDtype\n",
    "\n",
    "from category_encoders import MEstimateEncoder\n",
    "from sklearn.cluster import KMeans\n",
    "from sklearn.decomposition import PCA\n",
    "from sklearn.feature_selection import mutual_info_regression\n",
    "from sklearn.model_selection import KFold, cross_val_score\n",
    "from xgboost import XGBRegressor\n",
    "\n",
    "\n",
    "# Set Matplotlib defaults\n",
    "plt.style.use(\"seaborn-whitegrid\")\n",
    "plt.rc(\"figure\", autolayout=True)\n",
    "plt.rc(\n",
    "    \"axes\",\n",
    "    labelweight=\"bold\",\n",
    "    labelsize=\"large\",\n",
    "    titleweight=\"bold\",\n",
    "    titlesize=14,\n",
    "    titlepad=10,\n",
    ")\n",
    "\n",
    "# Mute warnings\n",
    "warnings.filterwarnings('ignore')\n"
   ]
  },
  {
   "cell_type": "markdown",
   "id": "d8689a98",
   "metadata": {
    "papermill": {
     "duration": 0.011211,
     "end_time": "2022-08-07T22:35:18.960926",
     "exception": false,
     "start_time": "2022-08-07T22:35:18.949715",
     "status": "completed"
    },
    "tags": []
   },
   "source": [
    "## Data Preprocessing ##\n",
    "\n",
    "Before we can do any feature engineering, we need to *preprocess* the data to get it in a form suitable for analysis. For the *Ames* competition dataset, we'll need to:\n",
    "- **Load** the data from CSV files\n",
    "- **Clean** the data to fix any errors or inconsistencies\n",
    "- **Encode** the statistical data type (numeric, categorical)\n",
    "- **Impute** any missing values\n",
    "\n",
    "We'll wrap all these steps up in a function, which will make easy for us to get a fresh dataframe whenever we need. After reading the CSV file, we'll apply three preprocessing steps, `clean`, `encode`, and `impute`, and then create the data splits: one (`df_train`) for training the model, and (`df_test`) for making the predictions that you'll submit to the competition for scoring on the leaderboard."
   ]
  },
  {
   "cell_type": "code",
   "execution_count": 2,
   "id": "34d118fd",
   "metadata": {
    "execution": {
     "iopub.execute_input": "2022-08-07T22:35:18.987832Z",
     "iopub.status.busy": "2022-08-07T22:35:18.987183Z",
     "iopub.status.idle": "2022-08-07T22:35:18.994056Z",
     "shell.execute_reply": "2022-08-07T22:35:18.992550Z"
    },
    "papermill": {
     "duration": 0.022845,
     "end_time": "2022-08-07T22:35:18.996937",
     "exception": false,
     "start_time": "2022-08-07T22:35:18.974092",
     "status": "completed"
    },
    "tags": []
   },
   "outputs": [],
   "source": [
    "def load_data():\n",
    "    # Read data\n",
    "    data_dir = Path(\"house-prices-advanced-regression-techniques\")\n",
    "    df_train = pd.read_csv(data_dir / \"train.csv\", index_col=\"Id\")\n",
    "    df_test = pd.read_csv(data_dir / \"test.csv\", index_col=\"Id\")\n",
    "    # Merge the splits so we can process them together\n",
    "    df = pd.concat([df_train, df_test])\n",
    "    # Preprocessing\n",
    "    df = clean(df)\n",
    "    df = encode(df)\n",
    "    df = impute(df)\n",
    "    # Reform splits\n",
    "    df_train = df.loc[df_train.index, :]\n",
    "    df_test = df.loc[df_test.index, :]\n",
    "    return df_train, df_test\n"
   ]
  },
  {
   "cell_type": "markdown",
   "id": "249e3163",
   "metadata": {
    "papermill": {
     "duration": 0.011241,
     "end_time": "2022-08-07T22:35:19.021107",
     "exception": false,
     "start_time": "2022-08-07T22:35:19.009866",
     "status": "completed"
    },
    "tags": []
   },
   "source": [
    "### Clean Data ###\n",
    "\n",
    "Some of the categorical features in this dataset have what are apparently typos in their categories:"
   ]
  },
  {
   "cell_type": "code",
   "execution_count": 3,
   "id": "11b090f7",
   "metadata": {
    "execution": {
     "iopub.execute_input": "2022-08-07T22:35:19.046055Z",
     "iopub.status.busy": "2022-08-07T22:35:19.045609Z",
     "iopub.status.idle": "2022-08-07T22:35:19.105271Z",
     "shell.execute_reply": "2022-08-07T22:35:19.103946Z"
    },
    "papermill": {
     "duration": 0.076063,
     "end_time": "2022-08-07T22:35:19.108646",
     "exception": false,
     "start_time": "2022-08-07T22:35:19.032583",
     "status": "completed"
    },
    "tags": []
   },
   "outputs": [],
   "source": [
    "data_dir = Path(\"house-prices-advanced-regression-techniques\")\n",
    "df = pd.read_csv(data_dir / \"train.csv\", index_col=\"Id\")\n",
    "\n"
   ]
  },
  {
   "cell_type": "code",
   "execution_count": 4,
   "id": "f0f45771",
   "metadata": {},
   "outputs": [
    {
     "name": "stdout",
     "output_type": "stream",
     "text": [
      "<class 'pandas.core.frame.DataFrame'>\n",
      "Int64Index: 1460 entries, 1 to 1460\n",
      "Data columns (total 80 columns):\n",
      " #   Column         Non-Null Count  Dtype  \n",
      "---  ------         --------------  -----  \n",
      " 0   MSSubClass     1460 non-null   int64  \n",
      " 1   MSZoning       1460 non-null   object \n",
      " 2   LotFrontage    1201 non-null   float64\n",
      " 3   LotArea        1460 non-null   int64  \n",
      " 4   Street         1460 non-null   object \n",
      " 5   Alley          91 non-null     object \n",
      " 6   LotShape       1460 non-null   object \n",
      " 7   LandContour    1460 non-null   object \n",
      " 8   Utilities      1460 non-null   object \n",
      " 9   LotConfig      1460 non-null   object \n",
      " 10  LandSlope      1460 non-null   object \n",
      " 11  Neighborhood   1460 non-null   object \n",
      " 12  Condition1     1460 non-null   object \n",
      " 13  Condition2     1460 non-null   object \n",
      " 14  BldgType       1460 non-null   object \n",
      " 15  HouseStyle     1460 non-null   object \n",
      " 16  OverallQual    1460 non-null   int64  \n",
      " 17  OverallCond    1460 non-null   int64  \n",
      " 18  YearBuilt      1460 non-null   int64  \n",
      " 19  YearRemodAdd   1460 non-null   int64  \n",
      " 20  RoofStyle      1460 non-null   object \n",
      " 21  RoofMatl       1460 non-null   object \n",
      " 22  Exterior1st    1460 non-null   object \n",
      " 23  Exterior2nd    1460 non-null   object \n",
      " 24  MasVnrType     1452 non-null   object \n",
      " 25  MasVnrArea     1452 non-null   float64\n",
      " 26  ExterQual      1460 non-null   object \n",
      " 27  ExterCond      1460 non-null   object \n",
      " 28  Foundation     1460 non-null   object \n",
      " 29  BsmtQual       1423 non-null   object \n",
      " 30  BsmtCond       1423 non-null   object \n",
      " 31  BsmtExposure   1422 non-null   object \n",
      " 32  BsmtFinType1   1423 non-null   object \n",
      " 33  BsmtFinSF1     1460 non-null   int64  \n",
      " 34  BsmtFinType2   1422 non-null   object \n",
      " 35  BsmtFinSF2     1460 non-null   int64  \n",
      " 36  BsmtUnfSF      1460 non-null   int64  \n",
      " 37  TotalBsmtSF    1460 non-null   int64  \n",
      " 38  Heating        1460 non-null   object \n",
      " 39  HeatingQC      1460 non-null   object \n",
      " 40  CentralAir     1460 non-null   object \n",
      " 41  Electrical     1459 non-null   object \n",
      " 42  1stFlrSF       1460 non-null   int64  \n",
      " 43  2ndFlrSF       1460 non-null   int64  \n",
      " 44  LowQualFinSF   1460 non-null   int64  \n",
      " 45  GrLivArea      1460 non-null   int64  \n",
      " 46  BsmtFullBath   1460 non-null   int64  \n",
      " 47  BsmtHalfBath   1460 non-null   int64  \n",
      " 48  FullBath       1460 non-null   int64  \n",
      " 49  HalfBath       1460 non-null   int64  \n",
      " 50  BedroomAbvGr   1460 non-null   int64  \n",
      " 51  KitchenAbvGr   1460 non-null   int64  \n",
      " 52  KitchenQual    1460 non-null   object \n",
      " 53  TotRmsAbvGrd   1460 non-null   int64  \n",
      " 54  Functional     1460 non-null   object \n",
      " 55  Fireplaces     1460 non-null   int64  \n",
      " 56  FireplaceQu    770 non-null    object \n",
      " 57  GarageType     1379 non-null   object \n",
      " 58  GarageYrBlt    1379 non-null   float64\n",
      " 59  GarageFinish   1379 non-null   object \n",
      " 60  GarageCars     1460 non-null   int64  \n",
      " 61  GarageArea     1460 non-null   int64  \n",
      " 62  GarageQual     1379 non-null   object \n",
      " 63  GarageCond     1379 non-null   object \n",
      " 64  PavedDrive     1460 non-null   object \n",
      " 65  WoodDeckSF     1460 non-null   int64  \n",
      " 66  OpenPorchSF    1460 non-null   int64  \n",
      " 67  EnclosedPorch  1460 non-null   int64  \n",
      " 68  3SsnPorch      1460 non-null   int64  \n",
      " 69  ScreenPorch    1460 non-null   int64  \n",
      " 70  PoolArea       1460 non-null   int64  \n",
      " 71  PoolQC         7 non-null      object \n",
      " 72  Fence          281 non-null    object \n",
      " 73  MiscFeature    54 non-null     object \n",
      " 74  MiscVal        1460 non-null   int64  \n",
      " 75  MoSold         1460 non-null   int64  \n",
      " 76  YrSold         1460 non-null   int64  \n",
      " 77  SaleType       1460 non-null   object \n",
      " 78  SaleCondition  1460 non-null   object \n",
      " 79  SalePrice      1460 non-null   int64  \n",
      "dtypes: float64(3), int64(34), object(43)\n",
      "memory usage: 923.9+ KB\n"
     ]
    }
   ],
   "source": [
    "df.info()"
   ]
  },
  {
   "cell_type": "code",
   "execution_count": 5,
   "id": "5ba49b5a",
   "metadata": {},
   "outputs": [
    {
     "data": {
      "text/plain": [
       "array([ 60,  20,  70,  50, 190,  45,  90, 120,  30,  85,  80, 160,  75,\n",
       "       180,  40], dtype=int64)"
      ]
     },
     "execution_count": 5,
     "metadata": {},
     "output_type": "execute_result"
    }
   ],
   "source": [
    "df.MSSubClass.unique()"
   ]
  },
  {
   "cell_type": "code",
   "execution_count": 6,
   "id": "f5cffba8",
   "metadata": {},
   "outputs": [
    {
     "data": {
      "text/plain": [
       "array(['VinylSd', 'MetalSd', 'Wd Shng', 'HdBoard', 'Plywood', 'Wd Sdng',\n",
       "       'CmentBd', 'BrkFace', 'Stucco', 'AsbShng', 'Brk Cmn', 'ImStucc',\n",
       "       'AsphShn', 'Stone', 'Other', 'CBlock'], dtype=object)"
      ]
     },
     "execution_count": 6,
     "metadata": {},
     "output_type": "execute_result"
    }
   ],
   "source": [
    "df.Exterior2nd.unique()\n",
    "# BRK Cmn is written wrong, it's BrkComm"
   ]
  },
  {
   "cell_type": "code",
   "execution_count": 7,
   "id": "8e7a4509",
   "metadata": {},
   "outputs": [
    {
     "data": {
      "text/plain": [
       "array([nan, 'Grvl', 'Pave'], dtype=object)"
      ]
     },
     "execution_count": 7,
     "metadata": {},
     "output_type": "execute_result"
    }
   ],
   "source": [
    "df.Alley.unique()\n",
    "##nan means that there's no alley access "
   ]
  },
  {
   "cell_type": "code",
   "execution_count": 8,
   "id": "a5f44b91",
   "metadata": {},
   "outputs": [
    {
     "data": {
      "text/plain": [
       "1369"
      ]
     },
     "execution_count": 8,
     "metadata": {},
     "output_type": "execute_result"
    }
   ],
   "source": [
    "df.Alley.isnull().sum()"
   ]
  },
  {
   "cell_type": "code",
   "execution_count": 9,
   "id": "22df7a1f",
   "metadata": {},
   "outputs": [
    {
     "data": {
      "text/plain": [
       "array([ 65.,  80.,  68.,  60.,  84.,  85.,  75.,  nan,  51.,  50.,  70.,\n",
       "        91.,  72.,  66., 101.,  57.,  44., 110.,  98.,  47., 108., 112.,\n",
       "        74., 115.,  61.,  48.,  33.,  52., 100.,  24.,  89.,  63.,  76.,\n",
       "        81.,  95.,  69.,  21.,  32.,  78., 121., 122.,  40., 105.,  73.,\n",
       "        77.,  64.,  94.,  34.,  90.,  55.,  88.,  82.,  71., 120., 107.,\n",
       "        92., 134.,  62.,  86., 141.,  97.,  54.,  41.,  79., 174.,  99.,\n",
       "        67.,  83.,  43., 103.,  93.,  30., 129., 140.,  35.,  37., 118.,\n",
       "        87., 116., 150., 111.,  49.,  96.,  59.,  36.,  56., 102.,  58.,\n",
       "        38., 109., 130.,  53., 137.,  45., 106., 104.,  42.,  39., 144.,\n",
       "       114., 128., 149., 313., 168., 182., 138., 160., 152., 124., 153.,\n",
       "        46.])"
      ]
     },
     "execution_count": 9,
     "metadata": {},
     "output_type": "execute_result"
    }
   ],
   "source": [
    "df.LotFrontage.unique()\n",
    "## nan mean that it's just missing so might impute is with mean or median maybe "
   ]
  },
  {
   "cell_type": "code",
   "execution_count": 10,
   "id": "652c64bb",
   "metadata": {},
   "outputs": [
    {
     "data": {
      "text/plain": [
       "array(['BrkFace', 'None', 'Stone', 'BrkCmn', nan], dtype=object)"
      ]
     },
     "execution_count": 10,
     "metadata": {},
     "output_type": "execute_result"
    }
   ],
   "source": [
    "df.MasVnrType.unique()\n",
    "##None means there's is no veneer, but nan is missing values "
   ]
  },
  {
   "cell_type": "code",
   "execution_count": 11,
   "id": "5c09f20f",
   "metadata": {},
   "outputs": [
    {
     "data": {
      "text/plain": [
       "array(['Gd', 'TA', 'Ex', nan, 'Fa'], dtype=object)"
      ]
     },
     "execution_count": 11,
     "metadata": {},
     "output_type": "execute_result"
    }
   ],
   "source": [
    "df.BsmtQual.unique()\n",
    "##nan means no basment "
   ]
  },
  {
   "cell_type": "code",
   "execution_count": 12,
   "id": "d2c114d5",
   "metadata": {},
   "outputs": [
    {
     "data": {
      "text/plain": [
       "array(['TA', 'Gd', nan, 'Fa', 'Po'], dtype=object)"
      ]
     },
     "execution_count": 12,
     "metadata": {},
     "output_type": "execute_result"
    }
   ],
   "source": [
    "df.BsmtCond.unique()"
   ]
  },
  {
   "cell_type": "code",
   "execution_count": 13,
   "id": "de65130c",
   "metadata": {},
   "outputs": [
    {
     "data": {
      "text/plain": [
       "array(['No', 'Gd', 'Mn', 'Av', nan], dtype=object)"
      ]
     },
     "execution_count": 13,
     "metadata": {},
     "output_type": "execute_result"
    }
   ],
   "source": [
    "df.BsmtExposure.unique()"
   ]
  },
  {
   "cell_type": "code",
   "execution_count": 14,
   "id": "a78ad10a",
   "metadata": {},
   "outputs": [
    {
     "data": {
      "text/plain": [
       "array([nan, 'TA', 'Gd', 'Fa', 'Ex', 'Po'], dtype=object)"
      ]
     },
     "execution_count": 14,
     "metadata": {},
     "output_type": "execute_result"
    }
   ],
   "source": [
    "df.FireplaceQu.unique()\n",
    "##nan means no fire place "
   ]
  },
  {
   "cell_type": "code",
   "execution_count": 15,
   "id": "d1e6b966",
   "metadata": {},
   "outputs": [
    {
     "data": {
      "text/plain": [
       "array(['Attchd', 'Detchd', 'BuiltIn', 'CarPort', nan, 'Basment', '2Types'],\n",
       "      dtype=object)"
      ]
     },
     "execution_count": 15,
     "metadata": {},
     "output_type": "execute_result"
    }
   ],
   "source": [
    "df.GarageType.unique()"
   ]
  },
  {
   "cell_type": "code",
   "execution_count": 16,
   "id": "8be4b63d",
   "metadata": {},
   "outputs": [
    {
     "data": {
      "text/plain": [
       "array([2003., 1976., 2001., 1998., 2000., 1993., 2004., 1973., 1931.,\n",
       "       1939., 1965., 2005., 1962., 2006., 1960., 1991., 1970., 1967.,\n",
       "       1958., 1930., 2002., 1968., 2007., 2008., 1957., 1920., 1966.,\n",
       "       1959., 1995., 1954., 1953.,   nan, 1983., 1977., 1997., 1985.,\n",
       "       1963., 1981., 1964., 1999., 1935., 1990., 1945., 1987., 1989.,\n",
       "       1915., 1956., 1948., 1974., 2009., 1950., 1961., 1921., 1900.,\n",
       "       1979., 1951., 1969., 1936., 1975., 1971., 1923., 1984., 1926.,\n",
       "       1955., 1986., 1988., 1916., 1932., 1972., 1918., 1980., 1924.,\n",
       "       1996., 1940., 1949., 1994., 1910., 1978., 1982., 1992., 1925.,\n",
       "       1941., 2010., 1927., 1947., 1937., 1942., 1938., 1952., 1928.,\n",
       "       1922., 1934., 1906., 1914., 1946., 1908., 1929., 1933.])"
      ]
     },
     "execution_count": 16,
     "metadata": {},
     "output_type": "execute_result"
    }
   ],
   "source": [
    "df.GarageYrBlt.unique()\n",
    "\n",
    "#nan cause no grg"
   ]
  },
  {
   "cell_type": "code",
   "execution_count": 17,
   "id": "516755b3",
   "metadata": {},
   "outputs": [
    {
     "data": {
      "text/plain": [
       "array([nan, 'Ex', 'Fa', 'Gd'], dtype=object)"
      ]
     },
     "execution_count": 17,
     "metadata": {},
     "output_type": "execute_result"
    }
   ],
   "source": [
    "df.PoolQC.unique()\n",
    "\n",
    "##nan means no pool "
   ]
  },
  {
   "cell_type": "code",
   "execution_count": 18,
   "id": "3eeaf68b",
   "metadata": {},
   "outputs": [
    {
     "data": {
      "text/plain": [
       "array([nan, 'MnPrv', 'GdWo', 'GdPrv', 'MnWw'], dtype=object)"
      ]
     },
     "execution_count": 18,
     "metadata": {},
     "output_type": "execute_result"
    }
   ],
   "source": [
    "df.Fence.unique()\n",
    "\n",
    "##nan means there's no fence"
   ]
  },
  {
   "cell_type": "code",
   "execution_count": 19,
   "id": "1db356b4",
   "metadata": {},
   "outputs": [
    {
     "data": {
      "text/plain": [
       "array([nan, 'Shed', 'Gar2', 'Othr', 'TenC'], dtype=object)"
      ]
     },
     "execution_count": 19,
     "metadata": {},
     "output_type": "execute_result"
    }
   ],
   "source": [
    "df.MiscFeature.unique()\n",
    "##nan means Miscellaneous feature not covered"
   ]
  },
  {
   "cell_type": "markdown",
   "id": "d012a9a8",
   "metadata": {},
   "source": [
    "so now we can handle null values as we understand why they are nulls\n"
   ]
  },
  {
   "cell_type": "markdown",
   "id": "d2c82b63",
   "metadata": {
    "papermill": {
     "duration": 0.011295,
     "end_time": "2022-08-07T22:35:19.131416",
     "exception": false,
     "start_time": "2022-08-07T22:35:19.120121",
     "status": "completed"
    },
    "tags": []
   },
   "source": [
    "Comparing these to `data_description.txt` shows us what needs cleaning."
   ]
  },
  {
   "cell_type": "code",
   "execution_count": 20,
   "id": "615318f8",
   "metadata": {
    "execution": {
     "iopub.execute_input": "2022-08-07T22:35:19.157548Z",
     "iopub.status.busy": "2022-08-07T22:35:19.156255Z",
     "iopub.status.idle": "2022-08-07T22:35:19.164523Z",
     "shell.execute_reply": "2022-08-07T22:35:19.163060Z"
    },
    "papermill": {
     "duration": 0.024178,
     "end_time": "2022-08-07T22:35:19.167308",
     "exception": false,
     "start_time": "2022-08-07T22:35:19.143130",
     "status": "completed"
    },
    "tags": []
   },
   "outputs": [],
   "source": [
    "def clean(df):\n",
    "    df[\"Exterior2nd\"] = df[\"Exterior2nd\"].replace({\"Brk Cmn\": \"BrkComm\"})\n",
    "    \n",
    "    # Names beginning with numbers are awkward to work with\n",
    "    df.rename(columns={\n",
    "        \"1stFlrSF\": \"FirstFlrSF\",\n",
    "        \"2ndFlrSF\": \"SecondFlrSF\",\n",
    "        \"3SsnPorch\": \"Threeseasonporch\",\n",
    "    }, inplace=True,\n",
    "    )\n",
    "    \n",
    "    df['Alley']= df['Alley'].fillna(0)\n",
    "    \n",
    "    df['BsmtQual'] = df['BsmtQual'].replace({\"nan\":\"None\"})\n",
    "    df['BsmtCond'] = df['BsmtCond'].replace({\"nan\":\"None\"})\n",
    "    df['BsmtExposure'] = df['BsmtExposure'].replace({\"nan\":\"None\"})\n",
    "    df['FireplaceQu'] = df['FireplaceQu'].replace({\"nan\":\"None\"})\n",
    "    df['GarageType'] = df['GarageType'].replace({\"nan\":\"None\"})\n",
    "    df['GarageYrBlt'] = df['GarageYrBlt'].replace({\"nan\":\"None\"})\n",
    "    df['GarageFinish'] = df['GarageFinish'].replace({\"nan\":\"None\"})\n",
    "    df['PoolQC'] = df['PoolQC'].replace({\"nan\":\"None\"})\n",
    "    df['Fence'] = df['Fence'].replace({\"nan\":\"None\"})\n",
    "    df['MiscFeature'] = df['MiscFeature'].replace({\"nan\":\"None\"})\n",
    "    \n",
    "    \n",
    "    return df\n"
   ]
  },
  {
   "cell_type": "markdown",
   "id": "a416485d",
   "metadata": {
    "papermill": {
     "duration": 0.011415,
     "end_time": "2022-08-07T22:35:19.190541",
     "exception": false,
     "start_time": "2022-08-07T22:35:19.179126",
     "status": "completed"
    },
    "tags": []
   },
   "source": [
    "### Encode the Statistical Data Type ###\n",
    "\n",
    "Pandas has Python types corresponding to the standard statistical types (numeric, categorical, etc.). Encoding each feature with its correct type helps ensure each feature is treated appropriately by whatever functions we use, and makes it easier for us to apply transformations consistently. "
   ]
  },
  {
   "cell_type": "code",
   "execution_count": 26,
   "id": "758de156",
   "metadata": {
    "_kg_hide-input": true,
    "execution": {
     "iopub.execute_input": "2022-08-07T22:35:19.216471Z",
     "iopub.status.busy": "2022-08-07T22:35:19.215926Z",
     "iopub.status.idle": "2022-08-07T22:35:19.231290Z",
     "shell.execute_reply": "2022-08-07T22:35:19.230177Z"
    },
    "papermill": {
     "duration": 0.031019,
     "end_time": "2022-08-07T22:35:19.233708",
     "exception": false,
     "start_time": "2022-08-07T22:35:19.202689",
     "status": "completed"
    },
    "tags": []
   },
   "outputs": [],
   "source": [
    "\n",
    "# The numeric features are already encoded correctly (`float` for\n",
    "# continuous, `int` for discrete), but the categoricals we'll need to\n",
    "# do ourselves.\n",
    "\n",
    "# The nominative (unordered) categorical features\n",
    "features_nom = [\"MSSubClass\", \"MSZoning\", \"Street\", \"LandContour\",\n",
    "                \"LotConfig\", \"Neighborhood\", \"Condition1\", \"Condition2\", \n",
    "                \"BldgType\", \"HouseStyle\", \"RoofStyle\", \"RoofMatl\", \"Exterior1st\", \n",
    "                \"Exterior2nd\", \"MasVnrType\", \"Foundation\", \"Heating\", \"CentralAir\", \n",
    "                \"GarageType\", \"MiscFeature\", \"SaleType\", \"SaleCondition\"]\n",
    "\n",
    "\n",
    "# The ordinal (ordered) categorical features \n",
    "# Pandas calls the categories \"levels\"\n",
    "\n",
    "five_levels = [\"Po\", \"Fa\", \"TA\", \"Gd\", \"Ex\"]\n",
    "ten_levels = list(range(10)) ## from 0 to 9\n",
    "\n",
    "ordered_levels = {\n",
    "    \"OverallQual\": ten_levels,\n",
    "    \"OverallCond\": ten_levels,\n",
    "    \"ExterQual\": five_levels,\n",
    "    \"ExterCond\": five_levels,\n",
    "    \"BsmtQual\": five_levels,\n",
    "    \"BsmtCond\": five_levels,\n",
    "    \"HeatingQC\": five_levels,\n",
    "    \"KitchenQual\": five_levels,\n",
    "    \"FireplaceQu\": five_levels,\n",
    "    \"GarageQual\": five_levels,\n",
    "    \"GarageCond\": five_levels,\n",
    "    \"PoolQC\": five_levels,\n",
    "    'Alley' : [\"Grvl\" , \"Pave\"],\n",
    "    \"LotShape\": [\"Reg\", \"IR1\", \"IR2\", \"IR3\"],\n",
    "    \"LandSlope\": [\"Sev\", \"Mod\", \"Gtl\"],\n",
    "    \"BsmtExposure\": [\"No\", \"Mn\", \"Av\", \"Gd\"],\n",
    "    \"BsmtFinType1\": [\"Unf\", \"LwQ\", \"Rec\", \"BLQ\", \"ALQ\", \"GLQ\"],\n",
    "    \"BsmtFinType2\": [\"Unf\", \"LwQ\", \"Rec\", \"BLQ\", \"ALQ\", \"GLQ\"],\n",
    "    \"Functional\": [\"Sal\", \"Sev\", \"Maj1\", \"Maj2\", \"Mod\", \"Min2\", \"Min1\", \"Typ\"],\n",
    "    \"GarageFinish\": [\"Unf\", \"RFn\", \"Fin\"],\n",
    "    \"PavedDrive\": [\"N\", \"P\", \"Y\"],\n",
    "    \"Utilities\": [\"NoSeWa\", \"NoSewr\", \"AllPub\"],\n",
    "    \"CentralAir\": [\"N\", \"Y\"],\n",
    "    \"Electrical\": [\"Mix\", \"FuseP\", \"FuseF\", \"FuseA\", \"SBrkr\"],\n",
    "    \"Fence\": [\"MnWw\", \"GdWo\", \"MnPrv\", \"GdPrv\"],\n",
    "}\n",
    "\n",
    "# Add a None level for missing values, Although we already manually did this, just to make sure.\n",
    "ordered_levels = {key: [\"None\"] + value for key, value in\n",
    "                  ordered_levels.items()}\n",
    "##this exp is equal to ' for key,value in ordered_levels.items():\n",
    "    ##orders_levels.key = ['None'] + value }'\n",
    "    \n",
    "\n",
    "\n",
    "def encode(df):\n",
    "    # Nominal categories\n",
    "    for name in features_nom:\n",
    "        df[name] = df[name].astype(\"category\")\n",
    "        # Add a None category for missing values\n",
    "        if \"None\" not in df[name].cat.categories:\n",
    "            df[name].cat.add_categories(\"None\", inplace=True)\n",
    "    # Ordinal categories\n",
    "    for name, levels in ordered_levels.items():\n",
    "        df[name] = df[name].astype(CategoricalDtype(levels,\n",
    "                                                    ordered=True))\n",
    "    return df\n"
   ]
  },
  {
   "cell_type": "markdown",
   "id": "77de7689",
   "metadata": {
    "papermill": {
     "duration": 0.011106,
     "end_time": "2022-08-07T22:35:19.256512",
     "exception": false,
     "start_time": "2022-08-07T22:35:19.245406",
     "status": "completed"
    },
    "tags": []
   },
   "source": [
    "### Handle Missing Values ###\n",
    "\n",
    "we will impute with 0, mean, or None depending on wha twe noted previously about the missing data values as most of them are missing for a good reason."
   ]
  },
  {
   "cell_type": "code",
   "execution_count": 27,
   "id": "e5afb0b0",
   "metadata": {
    "execution": {
     "iopub.execute_input": "2022-08-07T22:35:19.281898Z",
     "iopub.status.busy": "2022-08-07T22:35:19.281489Z",
     "iopub.status.idle": "2022-08-07T22:35:19.287429Z",
     "shell.execute_reply": "2022-08-07T22:35:19.286289Z"
    },
    "papermill": {
     "duration": 0.021772,
     "end_time": "2022-08-07T22:35:19.289899",
     "exception": false,
     "start_time": "2022-08-07T22:35:19.268127",
     "status": "completed"
    },
    "tags": []
   },
   "outputs": [],
   "source": [
    "from sklearn.impute import SimpleImputer\n",
    "\n",
    "def impute(df):\n",
    "    \n",
    "    imputer = SimpleImputer(missing_values=np.nan, strategy='mean')\n",
    "    imputer = imputer.fit(df[['LotFrontage']])\n",
    "    df['LotFrontage'] = imputer.transform(df[['LotFrontage']])\n",
    "    for name in df.select_dtypes(\"number\"):\n",
    "        #df[name + '_was_missing'] = df[name].isnull()\n",
    "        df[name] = df[name].fillna(0)\n",
    "        \n",
    "    for name in df.select_dtypes(\"category\"):\n",
    "        df[name] = df[name].fillna(\"None\")\n",
    "    return df\n"
   ]
  },
  {
   "cell_type": "markdown",
   "id": "64f73d67",
   "metadata": {
    "papermill": {
     "duration": 0.011121,
     "end_time": "2022-08-07T22:35:19.312905",
     "exception": false,
     "start_time": "2022-08-07T22:35:19.301784",
     "status": "completed"
    },
    "tags": []
   },
   "source": [
    "## Load Data ##\n",
    "\n",
    "And now we can call the data loader and get the processed data splits:"
   ]
  },
  {
   "cell_type": "code",
   "execution_count": 28,
   "id": "69808af0",
   "metadata": {
    "execution": {
     "iopub.execute_input": "2022-08-07T22:35:19.337919Z",
     "iopub.status.busy": "2022-08-07T22:35:19.337504Z",
     "iopub.status.idle": "2022-08-07T22:35:19.516816Z",
     "shell.execute_reply": "2022-08-07T22:35:19.515634Z"
    },
    "papermill": {
     "duration": 0.195215,
     "end_time": "2022-08-07T22:35:19.519838",
     "exception": false,
     "start_time": "2022-08-07T22:35:19.324623",
     "status": "completed"
    },
    "tags": []
   },
   "outputs": [],
   "source": [
    "df_train, df_test = load_data()"
   ]
  },
  {
   "cell_type": "markdown",
   "id": "d27eff1f",
   "metadata": {
    "papermill": {
     "duration": 0.011088,
     "end_time": "2022-08-07T22:35:19.598386",
     "exception": false,
     "start_time": "2022-08-07T22:35:19.587298",
     "status": "completed"
    },
    "tags": []
   },
   "source": [
    "## Establish Baseline ##\n",
    "\n",
    "Finally, let's establish a baseline score to judge our feature engineering against.\n",
    "\n"
   ]
  },
  {
   "cell_type": "code",
   "execution_count": 62,
   "id": "fd91733e",
   "metadata": {
    "_kg_hide-input": true,
    "execution": {
     "iopub.execute_input": "2022-08-07T22:35:19.623497Z",
     "iopub.status.busy": "2022-08-07T22:35:19.622795Z",
     "iopub.status.idle": "2022-08-07T22:35:19.629376Z",
     "shell.execute_reply": "2022-08-07T22:35:19.628578Z"
    },
    "papermill": {
     "duration": 0.021946,
     "end_time": "2022-08-07T22:35:19.631872",
     "exception": false,
     "start_time": "2022-08-07T22:35:19.609926",
     "status": "completed"
    },
    "tags": []
   },
   "outputs": [],
   "source": [
    "\n",
    "def score_dataset(X, y, model=XGBRegressor()):\n",
    "    # Label encoding for categoricals\n",
    "    # Label encoding is good for XGBoost and RandomForest, but one-hot\n",
    "    # would be better for models like Lasso or Ridge. The `cat.codes`\n",
    "    # attribute holds the category levels.\n",
    "    for colname in X.select_dtypes([\"category\"]):\n",
    "        X[colname] = X[colname].cat.codes\n",
    "    # Metric for Housing competition is RMSLE (Root Mean Squared Log Error)\n",
    "    log_y = np.log(y)\n",
    "    score = cross_val_score(\n",
    "        model, X, log_y, cv=5, scoring=\"neg_mean_squared_error\",\n",
    "    )\n",
    "    score = -1 * score.mean()\n",
    "    score = np.sqrt(score)\n",
    "    return score\n"
   ]
  },
  {
   "cell_type": "markdown",
   "id": "3fe6a46b",
   "metadata": {
    "papermill": {
     "duration": 0.011261,
     "end_time": "2022-08-07T22:35:19.655397",
     "exception": false,
     "start_time": "2022-08-07T22:35:19.644136",
     "status": "completed"
    },
    "tags": []
   },
   "source": [
    "We can reuse this scoring function anytime we want to try out a new feature set. We'll run it now on the processed data with no additional features and get a baseline score:"
   ]
  },
  {
   "cell_type": "code",
   "execution_count": 63,
   "id": "3e5ea9c6",
   "metadata": {
    "execution": {
     "iopub.execute_input": "2022-08-07T22:35:19.680819Z",
     "iopub.status.busy": "2022-08-07T22:35:19.680418Z",
     "iopub.status.idle": "2022-08-07T22:35:22.988002Z",
     "shell.execute_reply": "2022-08-07T22:35:22.986733Z"
    },
    "papermill": {
     "duration": 3.323859,
     "end_time": "2022-08-07T22:35:22.990956",
     "exception": false,
     "start_time": "2022-08-07T22:35:19.667097",
     "status": "completed"
    },
    "tags": []
   },
   "outputs": [
    {
     "name": "stdout",
     "output_type": "stream",
     "text": [
      "Baseline score: 0.14130 RMSLE\n"
     ]
    }
   ],
   "source": [
    "X = df_train.copy()\n",
    "y = X.pop(\"SalePrice\")\n",
    "\n",
    "baseline_score = score_dataset(X, y)\n",
    "print(f\"Baseline score: {baseline_score:.5f} RMSLE\")"
   ]
  },
  {
   "cell_type": "markdown",
   "id": "b8660ce9",
   "metadata": {
    "papermill": {
     "duration": 0.011848,
     "end_time": "2022-08-07T22:35:23.019043",
     "exception": false,
     "start_time": "2022-08-07T22:35:23.007195",
     "status": "completed"
    },
    "tags": []
   },
   "source": [
    "This baseline score helps us to know whether some set of features we've assembled has actually led to any improvement or not.\n",
    "\n",
    "# Step 2 - Feature Utility Scores #\n"
   ]
  },
  {
   "cell_type": "code",
   "execution_count": 64,
   "id": "3e6f4471",
   "metadata": {
    "_kg_hide-input": true,
    "execution": {
     "iopub.execute_input": "2022-08-07T22:35:23.045470Z",
     "iopub.status.busy": "2022-08-07T22:35:23.044950Z",
     "iopub.status.idle": "2022-08-07T22:35:23.054836Z",
     "shell.execute_reply": "2022-08-07T22:35:23.053636Z"
    },
    "papermill": {
     "duration": 0.026811,
     "end_time": "2022-08-07T22:35:23.057584",
     "exception": false,
     "start_time": "2022-08-07T22:35:23.030773",
     "status": "completed"
    },
    "tags": []
   },
   "outputs": [],
   "source": [
    "\n",
    "def make_mi_scores(X, y):\n",
    "    X = X.copy()\n",
    "    for colname in X.select_dtypes([\"object\", \"category\"]):\n",
    "        X[colname], _ = X[colname].factorize()\n",
    "    # All discrete features should now have integer dtypes\n",
    "    discrete_features = [pd.api.types.is_integer_dtype(t) for t in X.dtypes]\n",
    "    mi_scores = mutual_info_regression(X, y, discrete_features=discrete_features, random_state=0)\n",
    "    mi_scores = pd.Series(mi_scores, name=\"MI Scores\", index=X.columns)\n",
    "    mi_scores = mi_scores.sort_values(ascending=False)\n",
    "    return mi_scores\n",
    "\n",
    "\n",
    "def plot_mi_scores(scores):\n",
    "    scores = scores.sort_values(ascending=True)\n",
    "    width = np.arange(len(scores))\n",
    "    ticks = list(scores.index)\n",
    "    plt.barh(width, scores)\n",
    "    plt.yticks(width, ticks)\n",
    "    plt.title(\"Mutual Information Scores\")"
   ]
  },
  {
   "cell_type": "markdown",
   "id": "cdc5fb32",
   "metadata": {
    "papermill": {
     "duration": 0.011551,
     "end_time": "2022-08-07T22:35:23.081102",
     "exception": false,
     "start_time": "2022-08-07T22:35:23.069551",
     "status": "completed"
    },
    "tags": []
   },
   "source": [
    "Let's look at our feature scores again:"
   ]
  },
  {
   "cell_type": "code",
   "execution_count": 69,
   "id": "e56f3cfa",
   "metadata": {
    "execution": {
     "iopub.execute_input": "2022-08-07T22:35:23.106521Z",
     "iopub.status.busy": "2022-08-07T22:35:23.106075Z",
     "iopub.status.idle": "2022-08-07T22:35:24.711922Z",
     "shell.execute_reply": "2022-08-07T22:35:24.710829Z"
    },
    "papermill": {
     "duration": 1.621882,
     "end_time": "2022-08-07T22:35:24.714723",
     "exception": false,
     "start_time": "2022-08-07T22:35:23.092841",
     "status": "completed"
    },
    "scrolled": true,
    "tags": []
   },
   "outputs": [
    {
     "data": {
      "text/plain": [
       "OverallQual     0.571457\n",
       "Neighborhood    0.526220\n",
       "GrLivArea       0.430395\n",
       "YearBuilt       0.407974\n",
       "LotArea         0.394468\n",
       "                  ...   \n",
       "PoolQC          0.000000\n",
       "MiscFeature     0.000000\n",
       "MiscVal         0.000000\n",
       "MoSold          0.000000\n",
       "YrSold          0.000000\n",
       "Name: MI Scores, Length: 79, dtype: float64"
      ]
     },
     "execution_count": 69,
     "metadata": {},
     "output_type": "execute_result"
    }
   ],
   "source": [
    "X = df_train.copy()\n",
    "y = X.pop(\"SalePrice\")\n",
    "\n",
    "mi_scores = make_mi_scores(X, y)\n",
    "mi_scores"
   ]
  },
  {
   "cell_type": "markdown",
   "id": "4b011b24",
   "metadata": {
    "papermill": {
     "duration": 0.010959,
     "end_time": "2022-08-07T22:35:24.737466",
     "exception": false,
     "start_time": "2022-08-07T22:35:24.726507",
     "status": "completed"
    },
    "tags": []
   },
   "source": [
    "You can see that we have a number of features that are highly informative and also some that don't seem to be informative at all (at least by themselves). the top scoring features will usually pay-off the most during feature development. On the other hand, training on uninformative features can lead to overfitting. So, the features with 0.0 scores we'll drop entirely:"
   ]
  },
  {
   "cell_type": "code",
   "execution_count": 35,
   "id": "63543516",
   "metadata": {
    "execution": {
     "iopub.execute_input": "2022-08-07T22:35:24.762340Z",
     "iopub.status.busy": "2022-08-07T22:35:24.761709Z",
     "iopub.status.idle": "2022-08-07T22:35:24.766926Z",
     "shell.execute_reply": "2022-08-07T22:35:24.766053Z"
    },
    "papermill": {
     "duration": 0.020362,
     "end_time": "2022-08-07T22:35:24.769212",
     "exception": false,
     "start_time": "2022-08-07T22:35:24.748850",
     "status": "completed"
    },
    "tags": []
   },
   "outputs": [],
   "source": [
    "def drop_uninformative(df, mi_scores):\n",
    "    \n",
    "    return df.loc[:, mi_scores > 0.00]\n"
   ]
  },
  {
   "cell_type": "markdown",
   "id": "de206de1",
   "metadata": {
    "papermill": {
     "duration": 0.011032,
     "end_time": "2022-08-07T22:35:24.791673",
     "exception": false,
     "start_time": "2022-08-07T22:35:24.780641",
     "status": "completed"
    },
    "tags": []
   },
   "source": [
    "Removing them does lead to a modest performance gain:"
   ]
  },
  {
   "cell_type": "code",
   "execution_count": 70,
   "id": "08b40ece",
   "metadata": {
    "execution": {
     "iopub.execute_input": "2022-08-07T22:35:24.816351Z",
     "iopub.status.busy": "2022-08-07T22:35:24.815941Z",
     "iopub.status.idle": "2022-08-07T22:35:29.167616Z",
     "shell.execute_reply": "2022-08-07T22:35:29.166336Z"
    },
    "papermill": {
     "duration": 4.367271,
     "end_time": "2022-08-07T22:35:29.170372",
     "exception": false,
     "start_time": "2022-08-07T22:35:24.803101",
     "status": "completed"
    },
    "tags": []
   },
   "outputs": [
    {
     "data": {
      "text/plain": [
       "0.13955957380731315"
      ]
     },
     "execution_count": 70,
     "metadata": {},
     "output_type": "execute_result"
    }
   ],
   "source": [
    "X = df_train.copy()\n",
    "y = X.pop(\"SalePrice\")\n",
    "X = drop_uninformative(X, mi_scores)\n",
    "\n",
    "score_dataset(X, y)"
   ]
  },
  {
   "cell_type": "markdown",
   "id": "ff0b6261",
   "metadata": {
    "papermill": {
     "duration": 0.011347,
     "end_time": "2022-08-07T22:35:29.194635",
     "exception": false,
     "start_time": "2022-08-07T22:35:29.183288",
     "status": "completed"
    },
    "tags": []
   },
   "source": [
    "Later, we'll add the `drop_uninformative` function to our feature-creation pipeline.\n",
    "\n",
    "# Step 3 - Create Features #\n",
    "\n",
    "Now we'll start developing our feature set.\n",
    "\n",
    "To make our feature engineering workflow more modular, we'll define a function that will take a prepared dataframe and pass it through a pipeline of transformations to get the final feature set. It will look something like this:\n"
   ]
  },
  {
   "cell_type": "code",
   "execution_count": 71,
   "id": "d916e1e4",
   "metadata": {
    "execution": {
     "iopub.execute_input": "2022-08-07T22:35:29.224349Z",
     "iopub.status.busy": "2022-08-07T22:35:29.222895Z",
     "iopub.status.idle": "2022-08-07T22:35:29.230772Z",
     "shell.execute_reply": "2022-08-07T22:35:29.229136Z"
    },
    "papermill": {
     "duration": 0.024134,
     "end_time": "2022-08-07T22:35:29.233430",
     "exception": false,
     "start_time": "2022-08-07T22:35:29.209296",
     "status": "completed"
    },
    "tags": []
   },
   "outputs": [],
   "source": [
    "def label_encode(df):\n",
    "    X = df.copy()\n",
    "    for colname in X.select_dtypes([\"category\"]):\n",
    "        X[colname] = X[colname].cat.codes\n",
    "    return X\n"
   ]
  },
  {
   "cell_type": "markdown",
   "id": "12c40ba9",
   "metadata": {
    "papermill": {
     "duration": 0.011433,
     "end_time": "2022-08-07T22:35:29.256843",
     "exception": false,
     "start_time": "2022-08-07T22:35:29.245410",
     "status": "completed"
    },
    "tags": []
   },
   "source": [
    "A label encoding is okay for any kind of categorical feature when you're using a tree-ensemble like XGBoost, even for unordered categories.\n",
    "\n",
    "## Create Features with Pandas ##\n"
   ]
  },
  {
   "cell_type": "code",
   "execution_count": 40,
   "id": "7b781dfa",
   "metadata": {},
   "outputs": [
    {
     "data": {
      "text/plain": [
       "array([2003, 1976, 2001, 1915, 2000, 1993, 2004, 1973, 1931, 1939, 1965,\n",
       "       2005, 1962, 2006, 1960, 1929, 1970, 1967, 1958, 1930, 2002, 1968,\n",
       "       2007, 1951, 1957, 1927, 1920, 1966, 1959, 1994, 1954, 1953, 1955,\n",
       "       1983, 1975, 1997, 1934, 1963, 1981, 1964, 1999, 1972, 1921, 1945,\n",
       "       1982, 1998, 1956, 1948, 1910, 1995, 1991, 2009, 1950, 1961, 1977,\n",
       "       1985, 1979, 1885, 1919, 1990, 1969, 1935, 1988, 1971, 1952, 1936,\n",
       "       1923, 1924, 1984, 1926, 1940, 1941, 1987, 1986, 2008, 1908, 1892,\n",
       "       1916, 1932, 1918, 1912, 1947, 1925, 1900, 1980, 1989, 1992, 1949,\n",
       "       1880, 1928, 1978, 1922, 1996, 2010, 1946, 1913, 1937, 1942, 1938,\n",
       "       1974, 1893, 1914, 1906, 1890, 1898, 1904, 1882, 1875, 1911, 1917,\n",
       "       1872, 1905], dtype=int64)"
      ]
     },
     "execution_count": 40,
     "metadata": {},
     "output_type": "execute_result"
    }
   ],
   "source": [
    "df.YearBuilt.unique()"
   ]
  },
  {
   "cell_type": "code",
   "execution_count": 39,
   "id": "4bd002a9",
   "metadata": {},
   "outputs": [
    {
     "data": {
      "text/plain": [
       "array([2003, 1976, 2002, 1970, 2000, 1995, 2005, 1973, 1950, 1965, 2006,\n",
       "       1962, 2007, 1960, 2001, 1967, 2004, 2008, 1997, 1959, 1990, 1955,\n",
       "       1983, 1980, 1966, 1963, 1987, 1964, 1972, 1996, 1998, 1989, 1953,\n",
       "       1956, 1968, 1981, 1992, 2009, 1982, 1961, 1993, 1999, 1985, 1979,\n",
       "       1977, 1969, 1958, 1991, 1971, 1952, 1975, 2010, 1984, 1986, 1994,\n",
       "       1988, 1954, 1957, 1951, 1978, 1974], dtype=int64)"
      ]
     },
     "execution_count": 39,
     "metadata": {},
     "output_type": "execute_result"
    }
   ],
   "source": [
    "df.YearRemodAdd.unique()"
   ]
  },
  {
   "cell_type": "code",
   "execution_count": null,
   "id": "873c5fdd",
   "metadata": {},
   "outputs": [],
   "source": []
  },
  {
   "cell_type": "code",
   "execution_count": 72,
   "id": "411cdf6e",
   "metadata": {
    "_kg_hide-input": true,
    "execution": {
     "iopub.execute_input": "2022-08-07T22:35:29.284495Z",
     "iopub.status.busy": "2022-08-07T22:35:29.283532Z",
     "iopub.status.idle": "2022-08-07T22:35:29.295132Z",
     "shell.execute_reply": "2022-08-07T22:35:29.293769Z"
    },
    "papermill": {
     "duration": 0.028913,
     "end_time": "2022-08-07T22:35:29.298509",
     "exception": false,
     "start_time": "2022-08-07T22:35:29.269596",
     "status": "completed"
    },
    "tags": []
   },
   "outputs": [],
   "source": [
    "\n",
    "def mathematical_transforms(df):\n",
    "    X = pd.DataFrame()  # dataframe to hold new features\n",
    "    X[\"LivLotRatio\"] = df.GrLivArea / df.LotArea\n",
    "    X[\"Spaciousness\"] = (df.FirstFlrSF + df.SecondFlrSF) / (df.TotRmsAbvGrd + df.FullBath + df.HalfBath)\n",
    "    X['ExterOver'] = (df.ExterQual * df.ExterCond )\n",
    "    X['BSMTOver'] = (df.BsmtQual ) * (df.BsmtCond ) * (df.BsmtExposure)\n",
    "    X['OverallQualCond'] = df.OverallQual * df.OverallCond\n",
    "    X[\"TotalArea\"] = (df.FirstFlrSF + df.SecondFlrSF)\n",
    "    df['BuiltEra'] = pd.cut(df[\"YearBuilt\"], bins = [1800,1970,2000,2020], labels = [0,1,2])\n",
    "    df['ModEra'] = pd.cut(df[\"YearRemodAdd\"], bins = [1800,1970,2000,2020], labels = [0,1,2])\n",
    "\n",
    "    \n",
    "    # This feature ended up not helping performance\n",
    "    # X[\"TotalOutsideSF\"] = \\\n",
    "    #     df.WoodDeckSF + df.OpenPorchSF + df.EnclosedPorch + \\\n",
    "    #     df.Threeseasonporch + df.ScreenPorch\n",
    "    return X\n",
    "\n",
    "\n",
    "def interactions(df):\n",
    "    X = pd.get_dummies(df.BldgType, prefix=\"Bldg\")\n",
    "    X = X.mul(df.GrLivArea, axis=0)\n",
    "    return X\n",
    "\n",
    "\n",
    "def counts(df):\n",
    "    X = pd.DataFrame()\n",
    "    X[\"PorchTypes\"] = df[[\n",
    "        \"WoodDeckSF\",\n",
    "        \"OpenPorchSF\",\n",
    "        \"EnclosedPorch\",\n",
    "        \"Threeseasonporch\",\n",
    "        \"ScreenPorch\",\n",
    "    ]].gt(0.0).sum(axis=1)\n",
    "    return X\n",
    "\n",
    "\n",
    "def break_down(df):\n",
    "    X = pd.DataFrame()\n",
    "    X[\"MSClass\"] = df.MSSubClass.str.split(\"_\", n=1, expand=True)[0]\n",
    "    return X\n",
    "\n",
    "\n",
    "def group_transforms(df):\n",
    "    X = pd.DataFrame()\n",
    "    X[\"MedNhbdArea\"] = df.groupby(\"Neighborhood\")[\"GrLivArea\"].transform(\"mean\")\n",
    "    return X\n"
   ]
  },
  {
   "cell_type": "markdown",
   "id": "79b68f53",
   "metadata": {
    "papermill": {
     "duration": 0.012344,
     "end_time": "2022-08-07T22:35:29.323651",
     "exception": false,
     "start_time": "2022-08-07T22:35:29.311307",
     "status": "completed"
    },
    "tags": []
   },
   "source": [
    "\n",
    "## k-Means Clustering ##\n"
   ]
  },
  {
   "cell_type": "code",
   "execution_count": 73,
   "id": "2c523795",
   "metadata": {
    "_kg_hide-input": true,
    "execution": {
     "iopub.execute_input": "2022-08-07T22:35:29.350631Z",
     "iopub.status.busy": "2022-08-07T22:35:29.350219Z",
     "iopub.status.idle": "2022-08-07T22:35:29.361343Z",
     "shell.execute_reply": "2022-08-07T22:35:29.359917Z"
    },
    "lines_to_next_cell": 2,
    "papermill": {
     "duration": 0.027473,
     "end_time": "2022-08-07T22:35:29.363857",
     "exception": false,
     "start_time": "2022-08-07T22:35:29.336384",
     "status": "completed"
    },
    "tags": []
   },
   "outputs": [],
   "source": [
    "\n",
    "cluster_features = [\n",
    "    \"LotArea\",\n",
    "    \"TotalBsmtSF\",\n",
    "    \"FirstFlrSF\",\n",
    "    \"SecondFlrSF\",\n",
    "    \"GrLivArea\",\n",
    "]\n",
    "\n",
    "\n",
    "def cluster_labels(df, features, n_clusters=25):\n",
    "    X = df.copy()\n",
    "    X_scaled = X.loc[:, features]\n",
    "    X_scaled = (X_scaled - X_scaled.mean(axis=0)) / X_scaled.std(axis=0)\n",
    "    kmeans = KMeans(n_clusters=n_clusters, n_init=50, random_state=0)\n",
    "    X_new = pd.DataFrame()\n",
    "    X_new[\"Cluster\"] = kmeans.fit_predict(X_scaled)\n",
    "    return X_new\n",
    "\n",
    "\n",
    "def cluster_distance(df, features, n_clusters=22):\n",
    "    X = df.copy()\n",
    "    X_scaled = X.loc[:, features]\n",
    "    X_scaled = (X_scaled - X_scaled.mean(axis=0)) / X_scaled.std(axis=0)\n",
    "    kmeans = KMeans(n_clusters=20, n_init=50, random_state=0)\n",
    "    X_cd = kmeans.fit_transform(X_scaled)\n",
    "    # Label features and join to dataset\n",
    "    X_cd = pd.DataFrame(\n",
    "        X_cd, columns=[f\"Centroid_{i}\" for i in range(X_cd.shape[1])]\n",
    "    )\n",
    "    return X_cd\n"
   ]
  },
  {
   "cell_type": "markdown",
   "id": "0ec2ed51",
   "metadata": {
    "papermill": {
     "duration": 0.011701,
     "end_time": "2022-08-07T22:35:29.388640",
     "exception": false,
     "start_time": "2022-08-07T22:35:29.376939",
     "status": "completed"
    },
    "tags": []
   },
   "source": [
    "## Principal Component Analysis ##\n"
   ]
  },
  {
   "cell_type": "code",
   "execution_count": 74,
   "id": "71daabd8",
   "metadata": {
    "_kg_hide-input": true,
    "execution": {
     "iopub.execute_input": "2022-08-07T22:35:29.414952Z",
     "iopub.status.busy": "2022-08-07T22:35:29.414544Z",
     "iopub.status.idle": "2022-08-07T22:35:29.425292Z",
     "shell.execute_reply": "2022-08-07T22:35:29.424000Z"
    },
    "papermill": {
     "duration": 0.026916,
     "end_time": "2022-08-07T22:35:29.427639",
     "exception": false,
     "start_time": "2022-08-07T22:35:29.400723",
     "status": "completed"
    },
    "tags": []
   },
   "outputs": [],
   "source": [
    "\n",
    "def apply_pca(X, standardize=True):\n",
    "    # Standardize\n",
    "    if standardize:\n",
    "        X = (X - X.mean(axis=0)) / X.std(axis=0)\n",
    "    # Create principal components\n",
    "    pca = PCA()\n",
    "    X_pca = pca.fit_transform(X)\n",
    "    # Convert to dataframe\n",
    "    component_names = [f\"PC{i+1}\" for i in range(X_pca.shape[1])]\n",
    "    X_pca = pd.DataFrame(X_pca, columns=component_names)\n",
    "    # Create loadings\n",
    "    loadings = pd.DataFrame(\n",
    "        pca.components_.T,  # transpose the matrix of loadings\n",
    "        columns=component_names,  # so the columns are the principal components\n",
    "        index=X.columns,  # and the rows are the original features\n",
    "    )\n",
    "    return pca, X_pca, loadings\n",
    "\n",
    "\n",
    "def plot_variance(pca, width=8, dpi=100):\n",
    "    # Create figure\n",
    "    fig, axs = plt.subplots(1, 2)\n",
    "    n = pca.n_components_\n",
    "    grid = np.arange(1, n + 1)\n",
    "    # Explained variance\n",
    "    evr = pca.explained_variance_ratio_\n",
    "    axs[0].bar(grid, evr)\n",
    "    axs[0].set(\n",
    "        xlabel=\"Component\", title=\"% Explained Variance\", ylim=(0.0, 1.0)\n",
    "    )\n",
    "    # Cumulative Variance\n",
    "    cv = np.cumsum(evr)\n",
    "    axs[1].plot(np.r_[0, grid], np.r_[0, cv], \"o-\")\n",
    "    axs[1].set(\n",
    "        xlabel=\"Component\", title=\"% Cumulative Variance\", ylim=(0.0, 1.0)\n",
    "    )\n",
    "    # Set up figure\n",
    "    fig.set(figwidth=8, dpi=100)\n",
    "    return axs\n"
   ]
  },
  {
   "cell_type": "code",
   "execution_count": 75,
   "id": "cbcea978",
   "metadata": {
    "_kg_hide-input": true,
    "execution": {
     "iopub.execute_input": "2022-08-07T22:35:29.476854Z",
     "iopub.status.busy": "2022-08-07T22:35:29.476409Z",
     "iopub.status.idle": "2022-08-07T22:35:29.483610Z",
     "shell.execute_reply": "2022-08-07T22:35:29.482581Z"
    },
    "papermill": {
     "duration": 0.023009,
     "end_time": "2022-08-07T22:35:29.486022",
     "exception": false,
     "start_time": "2022-08-07T22:35:29.463013",
     "status": "completed"
    },
    "tags": []
   },
   "outputs": [],
   "source": [
    "\n",
    "def pca_inspired(df):\n",
    "    X = pd.DataFrame()\n",
    "    X[\"Feature1\"] = df.GrLivArea + df.TotalBsmtSF\n",
    "    X[\"Feature2\"] = df.YearRemodAdd * df.TotalBsmtSF\n",
    "    return X\n",
    "\n",
    "\n",
    "def pca_components(df, features):\n",
    "    X = df.loc[:, features]\n",
    "    _, X_pca, _ = apply_pca(X)\n",
    "    return X_pca\n",
    "\n",
    "\n",
    "pca_features = [\n",
    "    \"GarageArea\",\n",
    "    \"YearRemodAdd\",\n",
    "    \"TotalBsmtSF\",\n",
    "    \"GrLivArea\",\n",
    "]"
   ]
  },
  {
   "cell_type": "code",
   "execution_count": 76,
   "id": "f26a85f5",
   "metadata": {
    "execution": {
     "iopub.execute_input": "2022-08-07T22:35:29.538534Z",
     "iopub.status.busy": "2022-08-07T22:35:29.537763Z",
     "iopub.status.idle": "2022-08-07T22:35:30.815917Z",
     "shell.execute_reply": "2022-08-07T22:35:30.814510Z"
    },
    "papermill": {
     "duration": 1.296031,
     "end_time": "2022-08-07T22:35:30.819247",
     "exception": false,
     "start_time": "2022-08-07T22:35:29.523216",
     "status": "completed"
    },
    "tags": []
   },
   "outputs": [
    {
     "data": {
      "image/png": "[encoded data removed]",
      "text/plain": [
       "<Figure size 720x720 with 4 Axes>"
      ]
     },
     "metadata": {},
     "output_type": "display_data"
    }
   ],
   "source": [
    "def corrplot(df, method=\"pearson\", annot=True, **kwargs):\n",
    "    sns.clustermap(\n",
    "        df.corr(method),\n",
    "        vmin=-1.0,\n",
    "        vmax=1.0,\n",
    "        cmap=\"icefire\",\n",
    "        method=\"complete\",\n",
    "        annot=annot,\n",
    "        **kwargs,\n",
    "    )\n",
    "\n",
    "\n",
    "corrplot(df_train, annot=None)"
   ]
  },
  {
   "cell_type": "markdown",
   "id": "0fbbb7a5",
   "metadata": {
    "papermill": {
     "duration": 0.013131,
     "end_time": "2022-08-07T22:35:30.845753",
     "exception": false,
     "start_time": "2022-08-07T22:35:30.832622",
     "status": "completed"
    },
    "tags": []
   },
   "source": [
    "\n",
    "\n",
    "### PCA Application - Indicate Outliers ###\n",
    "\n",
    "there was a group of houses in the `Edwards` neighborhood having a `SaleCondition` of `Partial` whose values were especially extreme.\n",
    "\n",
    "Some models can benefit from having these outliers indicated, which is what this next transform will do."
   ]
  },
  {
   "cell_type": "code",
   "execution_count": 77,
   "id": "c21d8f00",
   "metadata": {
    "execution": {
     "iopub.execute_input": "2022-08-07T22:35:30.874670Z",
     "iopub.status.busy": "2022-08-07T22:35:30.874249Z",
     "iopub.status.idle": "2022-08-07T22:35:30.879937Z",
     "shell.execute_reply": "2022-08-07T22:35:30.878515Z"
    },
    "papermill": {
     "duration": 0.023303,
     "end_time": "2022-08-07T22:35:30.882400",
     "exception": false,
     "start_time": "2022-08-07T22:35:30.859097",
     "status": "completed"
    },
    "tags": []
   },
   "outputs": [],
   "source": [
    "def indicate_outliers(df):\n",
    "    X_new = pd.DataFrame()\n",
    "    X_new[\"Outlier\"] = (df.Neighborhood == \"Edwards\") & (df.SaleCondition == \"Partial\")\n",
    "    return X_new\n"
   ]
  },
  {
   "cell_type": "markdown",
   "id": "03d20746",
   "metadata": {
    "papermill": {
     "duration": 0.012906,
     "end_time": "2022-08-07T22:35:30.935917",
     "exception": false,
     "start_time": "2022-08-07T22:35:30.923011",
     "status": "completed"
    },
    "tags": []
   },
   "source": [
    "## Target Encoding ##\n",
    "\n",
    "Needing a separate holdout set to create a target encoding is rather wasteful of data.\n",
    "There is, however, a way you can use target encoding without having to use held-out encoding data. It's basically the same trick used in cross-validation:\n",
    "1. Split the data into folds, each fold having two splits of the dataset.\n",
    "2. Train the encoder on one split but transform the values of the other.\n",
    "3. Repeat for all the splits.\n",
    "\n",
    "This way, training and transformation always take place on independent sets of data, just like when you use a holdout set but without any data going to waste.\n"
   ]
  },
  {
   "cell_type": "code",
   "execution_count": 78,
   "id": "48ae3905",
   "metadata": {
    "_kg_hide-input": true,
    "execution": {
     "iopub.execute_input": "2022-08-07T22:35:30.964875Z",
     "iopub.status.busy": "2022-08-07T22:35:30.964414Z",
     "iopub.status.idle": "2022-08-07T22:35:30.976008Z",
     "shell.execute_reply": "2022-08-07T22:35:30.975047Z"
    },
    "papermill": {
     "duration": 0.029558,
     "end_time": "2022-08-07T22:35:30.978811",
     "exception": false,
     "start_time": "2022-08-07T22:35:30.949253",
     "status": "completed"
    },
    "tags": []
   },
   "outputs": [],
   "source": [
    "\n",
    "class CrossFoldEncoder:\n",
    "    def __init__(self, encoder, **kwargs):\n",
    "        self.encoder_ = encoder\n",
    "        self.kwargs_ = kwargs  # keyword arguments for the encoder\n",
    "        self.cv_ = KFold(n_splits=5)\n",
    "\n",
    "    # Fit an encoder on one split and transform the feature on the\n",
    "    # other. Iterating over the splits in all folds gives a complete\n",
    "    # transformation. We also now have one trained encoder on each\n",
    "    # fold.\n",
    "    def fit_transform(self, X, y, cols):\n",
    "        self.fitted_encoders_ = []\n",
    "        self.cols_ = cols\n",
    "        X_encoded = []\n",
    "        for idx_encode, idx_train in self.cv_.split(X):\n",
    "            fitted_encoder = self.encoder_(cols=cols, **self.kwargs_)\n",
    "            fitted_encoder.fit(\n",
    "                X.iloc[idx_encode, :], y.iloc[idx_encode],\n",
    "            )\n",
    "            X_encoded.append(fitted_encoder.transform(X.iloc[idx_train, :])[cols])\n",
    "            self.fitted_encoders_.append(fitted_encoder)\n",
    "        X_encoded = pd.concat(X_encoded)\n",
    "        X_encoded.columns = [name + \"_encoded\" for name in X_encoded.columns]\n",
    "        return X_encoded\n",
    "\n",
    "    # To transform the test data, average the encodings learned from\n",
    "    # each fold.\n",
    "    def transform(self, X):\n",
    "        from functools import reduce\n",
    "\n",
    "        X_encoded_list = []\n",
    "        for fitted_encoder in self.fitted_encoders_:\n",
    "            X_encoded = fitted_encoder.transform(X)\n",
    "            X_encoded_list.append(X_encoded[self.cols_])\n",
    "        X_encoded = reduce(\n",
    "            lambda x, y: x.add(y, fill_value=0), X_encoded_list\n",
    "        ) / len(X_encoded_list)\n",
    "        X_encoded.columns = [name + \"_encoded\" for name in X_encoded.columns]\n",
    "        return X_encoded\n"
   ]
  },
  {
   "cell_type": "markdown",
   "id": "7be4bd7f",
   "metadata": {
    "papermill": {
     "duration": 0.014442,
     "end_time": "2022-08-07T22:35:31.006684",
     "exception": false,
     "start_time": "2022-08-07T22:35:30.992242",
     "status": "completed"
    },
    "tags": []
   },
   "source": [
    "\n",
    "\n",
    "## Create Final Feature Set ##\n",
    "\n",
    "Now let's combine everything together. Putting the transformations into separate functions makes it easier to experiment with various combinations. "
   ]
  },
  {
   "cell_type": "code",
   "execution_count": 84,
   "id": "37eef11a",
   "metadata": {
    "execution": {
     "iopub.execute_input": "2022-08-07T22:35:31.036465Z",
     "iopub.status.busy": "2022-08-07T22:35:31.035731Z",
     "iopub.status.idle": "2022-08-07T22:35:36.643629Z",
     "shell.execute_reply": "2022-08-07T22:35:36.642095Z"
    },
    "papermill": {
     "duration": 5.62656,
     "end_time": "2022-08-07T22:35:36.647210",
     "exception": false,
     "start_time": "2022-08-07T22:35:31.020650",
     "status": "completed"
    },
    "tags": []
   },
   "outputs": [
    {
     "data": {
      "text/plain": [
       "0.1333030631522535"
      ]
     },
     "execution_count": 84,
     "metadata": {},
     "output_type": "execute_result"
    }
   ],
   "source": [
    "def create_features(df, df_test=None):\n",
    "    X = df.copy()\n",
    "    y = X.pop(\"SalePrice\")\n",
    "    mi_scores = make_mi_scores(X, y)\n",
    "\n",
    "    # Combine splits if test data is given\n",
    "    #\n",
    "    # If we're creating features for test set predictions, we should\n",
    "    # use all the data we have available. After creating our features,\n",
    "    # we'll recreate the splits.\n",
    "    if df_test is not None:\n",
    "        X_test = df_test.copy()\n",
    "        X_test.pop(\"SalePrice\")\n",
    "        X = pd.concat([X, X_test])\n",
    "        \n",
    "\n",
    " \n",
    "    X = label_encode(X)\n",
    "    X = drop_uninformative(X, mi_scores)\n",
    "\n",
    "    # Transformations\n",
    "    X = X.join(mathematical_transforms(X))\n",
    "    X = label_encode(X) ## second time to encode the new features from mathematical_transforms\n",
    "    X = X.join(interactions(X))\n",
    "    X = X.join(counts(X))\n",
    "    # X = X.join(break_down(X))  ##didn't end up helping\n",
    "    X = X.join(group_transforms(X))\n",
    "\n",
    "    # - Clustering didn't end up helping\n",
    "    # X = X.join(cluster_labels(X, cluster_features, n_clusters=20))\n",
    "    # X = X.join(cluster_distance(X, cluster_features, n_clusters=20))\n",
    "\n",
    "    # PCA\n",
    "    X = X.join(pca_inspired(X))\n",
    "    # X = X.join(pca_components(X, pca_features))\n",
    "    # X = X.join(indicate_outliers(X))\n",
    "\n",
    "    \n",
    "\n",
    "    # Reform splits\n",
    "    if df_test is not None:\n",
    "        X_test = X.loc[df_test.index, :]\n",
    "        X.drop(df_test.index, inplace=True)\n",
    "\n",
    "    # Lesson 6 - Target Encoder\n",
    "    encoder = CrossFoldEncoder(MEstimateEncoder, m=5)\n",
    "    X = X.join(encoder.fit_transform(X, y, cols=[\"MSSubClass\"]))\n",
    "    if df_test is not None:\n",
    "        X_test = X_test.join(encoder.transform(X_test))\n",
    "\n",
    "    if df_test is not None:\n",
    "        return X, X_test\n",
    "    else:\n",
    "        return X\n",
    "\n",
    "\n",
    "df_train, df_test = load_data()\n",
    "X_train = create_features(df_train)\n",
    "y_train = df_train.loc[:, \"SalePrice\"]\n",
    "\n",
    "score_dataset(X_train, y_train)"
   ]
  },
  {
   "cell_type": "markdown",
   "id": "40b2b922",
   "metadata": {
    "papermill": {
     "duration": 0.016017,
     "end_time": "2022-08-07T22:35:36.677929",
     "exception": false,
     "start_time": "2022-08-07T22:35:36.661912",
     "status": "completed"
    },
    "tags": []
   },
   "source": [
    "# Step 4 - Hyperparameter Tuning #\n",
    "\n"
   ]
  },
  {
   "cell_type": "code",
   "execution_count": 85,
   "id": "044fedd6",
   "metadata": {
    "execution": {
     "iopub.execute_input": "2022-08-07T22:35:36.709979Z",
     "iopub.status.busy": "2022-08-07T22:35:36.708966Z",
     "iopub.status.idle": "2022-08-07T22:36:07.035641Z",
     "shell.execute_reply": "2022-08-07T22:36:07.033639Z"
    },
    "papermill": {
     "duration": 30.350791,
     "end_time": "2022-08-07T22:36:07.043006",
     "exception": false,
     "start_time": "2022-08-07T22:35:36.692215",
     "status": "completed"
    },
    "tags": []
   },
   "outputs": [
    {
     "data": {
      "text/plain": [
       "0.11892339695976799"
      ]
     },
     "execution_count": 85,
     "metadata": {},
     "output_type": "execute_result"
    }
   ],
   "source": [
    "X_train = create_features(df_train)\n",
    "y_train = df_train.loc[:, \"SalePrice\"]\n",
    "\n",
    "xgb_params = dict(\n",
    "    max_depth=4,           # maximum depth of each tree - try 2 to 10\n",
    "    learning_rate=0.01,    # effect of each tree - try 0.0001 to 0.1\n",
    "    n_estimators=6000,     # number of trees (that is, boosting rounds) - try 1000 to 8000\n",
    "    min_child_weight=3,    # minimum number of houses in a leaf - try 1 to 10\n",
    "    colsample_bytree=0.7,  # fraction of features (columns) per tree - try 0.2 to 1.0\n",
    "    subsample=0.7,         # fraction of instances (rows) per tree - try 0.2 to 1.0\n",
    "    reg_alpha=1,         # L1 regularization (like LASSO) - try 0.0 to 10.0\n",
    "    reg_lambda=1,        # L2 regularization (like Ridge) - try 0.0 to 10.0\n",
    "    num_parallel_tree=1,   # set > 1 for boosted random forests\n",
    ")\n",
    "\n",
    "xgb = XGBRegressor(**xgb_params)\n",
    "score_dataset(X_train, y_train, xgb)"
   ]
  },
  {
   "cell_type": "markdown",
   "id": "43a5f239",
   "metadata": {},
   "source": [
    "Rather than tuning manually we can use the help of (\"optuna\") which would get us great results"
   ]
  },
  {
   "cell_type": "code",
   "execution_count": 86,
   "id": "8295a938",
   "metadata": {},
   "outputs": [
    {
     "name": "stderr",
     "output_type": "stream",
     "text": [
      "\u001b[32m[I 2022-08-12 20:51:52,380]\u001b[0m A new study created in memory with name: no-name-6498f63b-4a38-4314-b451-f8617e1cc2c2\u001b[0m\n",
      "\u001b[32m[I 2022-08-12 20:52:09,010]\u001b[0m Trial 0 finished with value: 0.12340572756815064 and parameters: {'max_depth': 5, 'learning_rate': 0.06952771043244753, 'n_estimators': 6947, 'min_child_weight': 4, 'colsample_bytree': 0.6630204386917455, 'subsample': 0.5671020186021654, 'reg_alpha': 2.8380738066846023, 'reg_lambda': 0.197134228732303}. Best is trial 0 with value: 0.12340572756815064.\u001b[0m\n",
      "\u001b[32m[I 2022-08-12 20:52:34,612]\u001b[0m Trial 1 finished with value: 0.11817004298112423 and parameters: {'max_depth': 6, 'learning_rate': 0.0017986328370179663, 'n_estimators': 7439, 'min_child_weight': 9, 'colsample_bytree': 0.23397786152939767, 'subsample': 0.5137098734273722, 'reg_alpha': 0.0001886326456403232, 'reg_lambda': 0.006919090528047719}. Best is trial 1 with value: 0.11817004298112423.\u001b[0m\n",
      "\u001b[32m[I 2022-08-12 20:52:54,805]\u001b[0m Trial 2 finished with value: 0.12656942094113208 and parameters: {'max_depth': 6, 'learning_rate': 0.02167706710549242, 'n_estimators': 7696, 'min_child_weight': 4, 'colsample_bytree': 0.8623234286825403, 'subsample': 0.5505422951326131, 'reg_alpha': 3.706272237666375, 'reg_lambda': 6.322196198932463}. Best is trial 1 with value: 0.11817004298112423.\u001b[0m\n",
      "\u001b[32m[I 2022-08-12 20:53:14,320]\u001b[0m Trial 3 finished with value: 0.12134570563225389 and parameters: {'max_depth': 9, 'learning_rate': 0.030033247797466467, 'n_estimators': 4845, 'min_child_weight': 9, 'colsample_bytree': 0.343664632332345, 'subsample': 0.3533956972585542, 'reg_alpha': 0.0003976366325458915, 'reg_lambda': 0.002253467500111621}. Best is trial 1 with value: 0.11817004298112423.\u001b[0m\n",
      "\u001b[32m[I 2022-08-12 20:53:21,252]\u001b[0m Trial 4 finished with value: 0.12190383303004147 and parameters: {'max_depth': 8, 'learning_rate': 0.004026716109278309, 'n_estimators': 1776, 'min_child_weight': 2, 'colsample_bytree': 0.8449881860888921, 'subsample': 0.26983788950808396, 'reg_alpha': 0.018858379015904723, 'reg_lambda': 0.7391832723683964}. Best is trial 1 with value: 0.11817004298112423.\u001b[0m\n",
      "\u001b[32m[I 2022-08-12 20:53:39,319]\u001b[0m Trial 5 finished with value: 0.13615684604875736 and parameters: {'max_depth': 8, 'learning_rate': 0.001988831632363851, 'n_estimators': 5733, 'min_child_weight': 7, 'colsample_bytree': 0.41882183218022795, 'subsample': 0.3741705546316664, 'reg_alpha': 0.5474040704766493, 'reg_lambda': 51.43804068361214}. Best is trial 1 with value: 0.11817004298112423.\u001b[0m\n",
      "\u001b[32m[I 2022-08-12 20:53:54,244]\u001b[0m Trial 6 finished with value: 0.15658542161019942 and parameters: {'max_depth': 9, 'learning_rate': 0.012120616188818214, 'n_estimators': 6630, 'min_child_weight': 10, 'colsample_bytree': 0.9414677260208082, 'subsample': 0.4724783599595873, 'reg_alpha': 12.555248079329898, 'reg_lambda': 0.056043242812776436}. Best is trial 1 with value: 0.11817004298112423.\u001b[0m\n",
      "\u001b[32m[I 2022-08-12 20:54:11,422]\u001b[0m Trial 7 finished with value: 0.12205498422257344 and parameters: {'max_depth': 3, 'learning_rate': 0.021867205160002394, 'n_estimators': 7299, 'min_child_weight': 10, 'colsample_bytree': 0.21114759348424111, 'subsample': 0.31557313810189386, 'reg_alpha': 0.0004988102341301016, 'reg_lambda': 35.756490689840874}. Best is trial 1 with value: 0.11817004298112423.\u001b[0m\n",
      "\u001b[32m[I 2022-08-12 20:54:31,892]\u001b[0m Trial 8 finished with value: 5.645072838132286 and parameters: {'max_depth': 10, 'learning_rate': 0.0003236972933932768, 'n_estimators': 2207, 'min_child_weight': 2, 'colsample_bytree': 0.878788234543544, 'subsample': 0.4511343033163906, 'reg_alpha': 0.0001649969751106723, 'reg_lambda': 0.00015228025983291492}. Best is trial 1 with value: 0.11817004298112423.\u001b[0m\n",
      "\u001b[32m[I 2022-08-12 20:54:54,436]\u001b[0m Trial 9 finished with value: 0.11904541520222486 and parameters: {'max_depth': 6, 'learning_rate': 0.0042259109345175044, 'n_estimators': 6304, 'min_child_weight': 9, 'colsample_bytree': 0.7625061527090906, 'subsample': 0.27528928228974164, 'reg_alpha': 0.0002834750112865146, 'reg_lambda': 0.002079872776380464}. Best is trial 1 with value: 0.11817004298112423.\u001b[0m\n",
      "\u001b[32m[I 2022-08-12 20:55:02,502]\u001b[0m Trial 10 finished with value: 8.188155358106691 and parameters: {'max_depth': 2, 'learning_rate': 0.00010299085741441014, 'n_estimators': 3326, 'min_child_weight': 7, 'colsample_bytree': 0.4715491743021979, 'subsample': 0.8473204998951999, 'reg_alpha': 0.02227567345070882, 'reg_lambda': 0.0075201976397851296}. Best is trial 1 with value: 0.11817004298112423.\u001b[0m\n",
      "\u001b[32m[I 2022-08-12 20:55:25,416]\u001b[0m Trial 11 finished with value: 0.1195804067075002 and parameters: {'max_depth': 5, 'learning_rate': 0.0017637212664161274, 'n_estimators': 5601, 'min_child_weight': 8, 'colsample_bytree': 0.6765544880964578, 'subsample': 0.7604979556288521, 'reg_alpha': 0.003284218829962226, 'reg_lambda': 0.0007915179214308489}. Best is trial 1 with value: 0.11817004298112423.\u001b[0m\n",
      "\u001b[32m[I 2022-08-12 20:56:01,629]\u001b[0m Trial 12 finished with value: 0.11767174764173333 and parameters: {'max_depth': 6, 'learning_rate': 0.00503099355755459, 'n_estimators': 7954, 'min_child_weight': 6, 'colsample_bytree': 0.580789043459981, 'subsample': 0.7181144224273158, 'reg_alpha': 0.004157725596165359, 'reg_lambda': 0.02243291477629851}. Best is trial 12 with value: 0.11767174764173333.\u001b[0m\n",
      "\u001b[32m[I 2022-08-12 20:56:28,110]\u001b[0m Trial 13 finished with value: 0.21341887333370738 and parameters: {'max_depth': 4, 'learning_rate': 0.0005279646351031811, 'n_estimators': 7957, 'min_child_weight': 6, 'colsample_bytree': 0.539117565912389, 'subsample': 0.7036294717178009, 'reg_alpha': 0.004053267122124286, 'reg_lambda': 0.02765323069411018}. Best is trial 12 with value: 0.11767174764173333.\u001b[0m\n",
      "\u001b[32m[I 2022-08-12 20:56:37,404]\u001b[0m Trial 14 finished with value: 0.724792501370064 and parameters: {'max_depth': 7, 'learning_rate': 0.0007863457210028097, 'n_estimators': 3556, 'min_child_weight': 5, 'colsample_bytree': 0.20304081668781448, 'subsample': 0.9644069869154619, 'reg_alpha': 0.0031421710270789845, 'reg_lambda': 0.4885594562319345}. Best is trial 12 with value: 0.11767174764173333.\u001b[0m\n",
      "\u001b[32m[I 2022-08-12 20:56:57,347]\u001b[0m Trial 15 finished with value: 0.11728378192382713 and parameters: {'max_depth': 7, 'learning_rate': 0.005166926109478132, 'n_estimators': 4529, 'min_child_weight': 6, 'colsample_bytree': 0.3097684264931783, 'subsample': 0.6777928288462601, 'reg_alpha': 0.03915819433041417, 'reg_lambda': 0.014581928687274611}. Best is trial 15 with value: 0.11728378192382713.\u001b[0m\n",
      "\u001b[32m[I 2022-08-12 20:57:16,350]\u001b[0m Trial 16 finished with value: 0.11842808546637713 and parameters: {'max_depth': 7, 'learning_rate': 0.008551108926499974, 'n_estimators': 4153, 'min_child_weight': 5, 'colsample_bytree': 0.3567595889029619, 'subsample': 0.6935832399991304, 'reg_alpha': 0.16252583095030387, 'reg_lambda': 2.9945605720742963}. Best is trial 15 with value: 0.11728378192382713.\u001b[0m\n",
      "\u001b[32m[I 2022-08-12 20:57:19,971]\u001b[0m Trial 17 finished with value: 0.119774874131362 and parameters: {'max_depth': 4, 'learning_rate': 0.007378969757498724, 'n_estimators': 1007, 'min_child_weight': 3, 'colsample_bytree': 0.5747555005230865, 'subsample': 0.8485462243113339, 'reg_alpha': 0.03715733648905935, 'reg_lambda': 0.01979878685966058}. Best is trial 15 with value: 0.11728378192382713.\u001b[0m\n",
      "\u001b[32m[I 2022-08-12 20:57:35,051]\u001b[0m Trial 18 finished with value: 0.12147835470448101 and parameters: {'max_depth': 7, 'learning_rate': 0.07634405006098054, 'n_estimators': 5046, 'min_child_weight': 6, 'colsample_bytree': 0.30472118448031227, 'subsample': 0.6484704483022394, 'reg_alpha': 0.23825315936218763, 'reg_lambda': 0.00020885139800949282}. Best is trial 15 with value: 0.11728378192382713.\u001b[0m\n",
      "\u001b[32m[I 2022-08-12 20:57:45,233]\u001b[0m Trial 19 finished with value: 0.11855669707967306 and parameters: {'max_depth': 5, 'learning_rate': 0.004999466243446533, 'n_estimators': 2794, 'min_child_weight': 7, 'colsample_bytree': 0.46696276278870597, 'subsample': 0.8001074187134232, 'reg_alpha': 0.009214683841838368, 'reg_lambda': 0.11154955476504977}. Best is trial 15 with value: 0.11728378192382713.\u001b[0m\n"
     ]
    }
   ],
   "source": [
    "import optuna\n",
    "\n",
    "def objective(trial):\n",
    "    xgb_params = dict(\n",
    "        max_depth=trial.suggest_int(\"max_depth\", 2, 10),\n",
    "        learning_rate=trial.suggest_float(\"learning_rate\", 1e-4, 1e-1, log=True),\n",
    "        n_estimators=trial.suggest_int(\"n_estimators\", 1000, 8000),\n",
    "        min_child_weight=trial.suggest_int(\"min_child_weight\", 1, 10),\n",
    "        colsample_bytree=trial.suggest_float(\"colsample_bytree\", 0.2, 1.0),\n",
    "        subsample=trial.suggest_float(\"subsample\", 0.2, 1.0),\n",
    "        reg_alpha=trial.suggest_float(\"reg_alpha\", 1e-4, 1e2, log=True),\n",
    "        reg_lambda=trial.suggest_float(\"reg_lambda\", 1e-4, 1e2, log=True),\n",
    "    )\n",
    "    xgb = XGBRegressor(**xgb_params)\n",
    "    return score_dataset(X_train, y_train, xgb)\n",
    "\n",
    "study = optuna.create_study(direction=\"minimize\")\n",
    "study.optimize(objective, n_trials=20)\n",
    "xgb_params = study.best_params"
   ]
  },
  {
   "cell_type": "code",
   "execution_count": 87,
   "id": "20e848ce",
   "metadata": {},
   "outputs": [
    {
     "data": {
      "text/plain": [
       "{'max_depth': 7,\n",
       " 'learning_rate': 0.005166926109478132,\n",
       " 'n_estimators': 4529,\n",
       " 'min_child_weight': 6,\n",
       " 'colsample_bytree': 0.3097684264931783,\n",
       " 'subsample': 0.6777928288462601,\n",
       " 'reg_alpha': 0.03915819433041417,\n",
       " 'reg_lambda': 0.014581928687274611}"
      ]
     },
     "execution_count": 87,
     "metadata": {},
     "output_type": "execute_result"
    }
   ],
   "source": [
    "xgb_params # And the winnnnnnnnner"
   ]
  },
  {
   "cell_type": "markdown",
   "id": "4b77068e",
   "metadata": {
    "papermill": {
     "duration": 0.012514,
     "end_time": "2022-08-07T22:36:07.068586",
     "exception": false,
     "start_time": "2022-08-07T22:36:07.056072",
     "status": "completed"
    },
    "tags": []
   },
   "source": [
    "\n",
    "# Step 5 - Train Model and Create Submissions #\n",
    "\n",
    "it's time to create your final predictions! This cell will:\n"
   ]
  },
  {
   "cell_type": "code",
   "execution_count": 88,
   "id": "956e22ee",
   "metadata": {
    "execution": {
     "iopub.execute_input": "2022-08-07T22:36:07.096975Z",
     "iopub.status.busy": "2022-08-07T22:36:07.096263Z",
     "iopub.status.idle": "2022-08-07T22:36:15.024416Z",
     "shell.execute_reply": "2022-08-07T22:36:15.023056Z"
    },
    "papermill": {
     "duration": 7.946827,
     "end_time": "2022-08-07T22:36:15.028309",
     "exception": false,
     "start_time": "2022-08-07T22:36:07.081482",
     "status": "completed"
    },
    "tags": []
   },
   "outputs": [
    {
     "name": "stdout",
     "output_type": "stream",
     "text": [
      "Your submission was successfully saved!\n"
     ]
    }
   ],
   "source": [
    "X_train, X_test = create_features(df_train, df_test)\n",
    "y_train = df_train.loc[:, \"SalePrice\"]\n",
    "\n",
    "xgb = XGBRegressor(**xgb_params)\n",
    "# XGB minimizes MSE, but competition loss is RMSLE\n",
    "# So, we need to log-transform y to train and exp-transform the predictions\n",
    "xgb.fit(X_train, np.log(y))\n",
    "predictions = np.exp(xgb.predict(X_test))\n",
    "\n",
    "output = pd.DataFrame({'Id': X_test.index, 'SalePrice': predictions})\n",
    "output.to_csv('my_submission.csv', index=False)\n",
    "print(\"Your submission was successfully saved!\")"
   ]
  }
 ],
 "metadata": {
  "kernelspec": {
   "display_name": "Python 3 (ipykernel)",
   "language": "python",
   "name": "python3"
  },
  "language_info": {
   "codemirror_mode": {
    "name": "ipython",
    "version": 3
   },
   "file_extension": ".py",
   "mimetype": "text/x-python",
   "name": "python",
   "nbconvert_exporter": "python",
   "pygments_lexer": "ipython3",
   "version": "3.9.7"
  },
  "papermill": {
   "default_parameters": {},
   "duration": 70.246407,
   "end_time": "2022-08-07T22:36:16.119320",
   "environment_variables": {},
   "exception": null,
   "input_path": "__notebook__.ipynb",
   "output_path": "__notebook__.ipynb",
   "parameters": {},
   "start_time": "2022-08-07T22:35:05.872913",
   "version": "2.3.4"
  }
 },
 "nbformat": 4,
 "nbformat_minor": 5
}
